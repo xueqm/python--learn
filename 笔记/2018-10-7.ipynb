{
 "cells": [
  {
   "cell_type": "code",
   "execution_count": 2,
   "metadata": {},
   "outputs": [
    {
     "ename": "TypeError",
     "evalue": "get() missing 1 required positional argument: 'url'",
     "output_type": "error",
     "traceback": [
      "\u001b[1;31m---------------------------------------------------------------------------\u001b[0m",
      "\u001b[1;31mTypeError\u001b[0m                                 Traceback (most recent call last)",
      "\u001b[1;32m<ipython-input-2-71816df27f39>\u001b[0m in \u001b[0;36m<module>\u001b[1;34m()\u001b[0m\n\u001b[0;32m      1\u001b[0m \u001b[1;32mimport\u001b[0m \u001b[0mrequests\u001b[0m\u001b[1;33m\u001b[0m\u001b[0m\n\u001b[1;32m----> 2\u001b[1;33m \u001b[0ma\u001b[0m \u001b[1;33m=\u001b[0m \u001b[0mrequests\u001b[0m\u001b[1;33m.\u001b[0m\u001b[0mget\u001b[0m\u001b[1;33m(\u001b[0m\u001b[1;33m)\u001b[0m\u001b[1;33m\u001b[0m\u001b[0m\n\u001b[0m\u001b[0;32m      3\u001b[0m \u001b[0mprint\u001b[0m\u001b[1;33m(\u001b[0m\u001b[0mtype\u001b[0m\u001b[1;33m(\u001b[0m\u001b[0ma\u001b[0m\u001b[1;33m)\u001b[0m\u001b[1;33m)\u001b[0m\u001b[1;33m\u001b[0m\u001b[0m\n",
      "\u001b[1;31mTypeError\u001b[0m: get() missing 1 required positional argument: 'url'"
     ]
    }
   ],
   "source": [
    "import requests\n",
    "a = requests.get()\n",
    "print(type(a))"
   ]
  },
  {
   "cell_type": "code",
   "execution_count": 3,
   "metadata": {},
   "outputs": [
    {
     "data": {
      "text/plain": [
       "3"
      ]
     },
     "execution_count": 3,
     "metadata": {},
     "output_type": "execute_result"
    }
   ],
   "source": [
    "1+2"
   ]
  },
  {
   "cell_type": "code",
   "execution_count": 4,
   "metadata": {},
   "outputs": [
    {
     "data": {
      "text/plain": [
       "-3"
      ]
     },
     "execution_count": 4,
     "metadata": {},
     "output_type": "execute_result"
    }
   ],
   "source": [
    "-+3"
   ]
  },
  {
   "cell_type": "code",
   "execution_count": 5,
   "metadata": {},
   "outputs": [
    {
     "data": {
      "text/plain": [
       "3"
      ]
     },
     "execution_count": 5,
     "metadata": {},
     "output_type": "execute_result"
    }
   ],
   "source": [
    "_+6"
   ]
  },
  {
   "cell_type": "code",
   "execution_count": 20,
   "metadata": {},
   "outputs": [
    {
     "data": {
      "text/plain": [
       "1"
      ]
     },
     "execution_count": 20,
     "metadata": {},
     "output_type": "execute_result"
    }
   ],
   "source": [
    "class Fruit:\n",
    "    def __init__(self):\n",
    "        self.__color='blue'\n",
    "        self.price=1\n",
    "apple = Fruit()\n",
    "apple.price"
   ]
  },
  {
   "cell_type": "code",
   "execution_count": 24,
   "metadata": {},
   "outputs": [
    {
     "data": {
      "text/plain": [
       "2"
      ]
     },
     "execution_count": 24,
     "metadata": {},
     "output_type": "execute_result"
    }
   ],
   "source": [
    "apple.price = 2\n",
    "apple.price"
   ]
  },
  {
   "cell_type": "code",
   "execution_count": 11,
   "metadata": {},
   "outputs": [
    {
     "name": "stdout",
     "output_type": "stream",
     "text": [
      "2 red\n"
     ]
    }
   ],
   "source": [
    "print(apple.price,apple._Fruit__color)"
   ]
  },
  {
   "cell_type": "code",
   "execution_count": 13,
   "metadata": {},
   "outputs": [
    {
     "name": "stdout",
     "output_type": "stream",
     "text": [
      "2 red\n"
     ]
    }
   ],
   "source": [
    "apple._Furit__color=\"blue\"\n",
    "print(apple.price,apple._Fruit__color)"
   ]
  },
  {
   "cell_type": "code",
   "execution_count": 28,
   "metadata": {
    "collapsed": true
   },
   "outputs": [],
   "source": [
    "apple._Furit__color = 'red'"
   ]
  },
  {
   "cell_type": "code",
   "execution_count": 29,
   "metadata": {},
   "outputs": [
    {
     "name": "stdout",
     "output_type": "stream",
     "text": [
      "2 blue\n"
     ]
    }
   ],
   "source": [
    "print(apple.price,apple._Fruit__color)"
   ]
  },
  {
   "cell_type": "code",
   "execution_count": 32,
   "metadata": {},
   "outputs": [
    {
     "name": "stdout",
     "output_type": "stream",
     "text": [
      "2\n"
     ]
    },
    {
     "ename": "AttributeError",
     "evalue": "'Fruit' object has no attribute '__color'",
     "output_type": "error",
     "traceback": [
      "\u001b[1;31m---------------------------------------------------------------------------\u001b[0m",
      "\u001b[1;31mAttributeError\u001b[0m                            Traceback (most recent call last)",
      "\u001b[1;32m<ipython-input-32-c1b1cc3a6dd4>\u001b[0m in \u001b[0;36m<module>\u001b[1;34m()\u001b[0m\n\u001b[0;32m      1\u001b[0m \u001b[0mprint\u001b[0m\u001b[1;33m(\u001b[0m\u001b[0mapple\u001b[0m\u001b[1;33m.\u001b[0m\u001b[0mprice\u001b[0m\u001b[1;33m)\u001b[0m\u001b[1;33m\u001b[0m\u001b[0m\n\u001b[1;32m----> 2\u001b[1;33m \u001b[0mprint\u001b[0m\u001b[1;33m(\u001b[0m\u001b[0mapple\u001b[0m\u001b[1;33m.\u001b[0m\u001b[0m__color\u001b[0m\u001b[1;33m)\u001b[0m\u001b[1;33m\u001b[0m\u001b[0m\n\u001b[0m",
      "\u001b[1;31mAttributeError\u001b[0m: 'Fruit' object has no attribute '__color'"
     ]
    }
   ],
   "source": [
    "print(apple.price)\n",
    "print(apple.__color)"
   ]
  },
  {
   "cell_type": "code",
   "execution_count": 4,
   "metadata": {
    "collapsed": true
   },
   "outputs": [],
   "source": [
    "from tkinter import *\n",
    "\n",
    "\n",
    "root = Tk()\n",
    "# 定义面板的大小\n",
    "root.geometry('250x380')\n",
    "root.title(\"北京图灵学院\")\n",
    "\n",
    "\n",
    "\n",
    "# 定义面板\n",
    "# bg代表背景颜色（background）， #dddddd是十六进制表示颜色的一个串\n",
    "frame_show = Frame(width=300, height=150, bg='#dddddd')\n",
    "frame_show.pack()\n",
    "\n",
    "# 定义顶部区域\n",
    "\n",
    "sv = StringVar()\n",
    "sv.set('0')\n",
    "\n",
    "# anchor:定义控件的锚点，e代表右边\n",
    "# font代表字体\n",
    "show_label = Label(frame_show, textvariable=sv, \\\n",
    "                  bg='green', width=12, height=1,\\\n",
    "                  font=(\"黑体\", 20, 'bold'),\\\n",
    "                  justify=LEFT, anchor='e')\n",
    "show_label.pack(padx=10, pady=10)\n",
    "\n",
    "root.mainloop()"
   ]
  },
  {
   "cell_type": "code",
   "execution_count": 5,
   "metadata": {},
   "outputs": [
    {
     "ename": "IndentationError",
     "evalue": "expected an indented block (<ipython-input-5-2452e59112c5>, line 27)",
     "output_type": "error",
     "traceback": [
      "\u001b[1;36m  File \u001b[1;32m\"<ipython-input-5-2452e59112c5>\"\u001b[1;36m, line \u001b[1;32m27\u001b[0m\n\u001b[1;33m    from tkinter import *\u001b[0m\n\u001b[1;37m       ^\u001b[0m\n\u001b[1;31mIndentationError\u001b[0m\u001b[1;31m:\u001b[0m expected an indented block\n"
     ]
    }
   ],
   "source": [
    "from tkinter import *\n",
    "\n",
    "\n",
    "root = Tk()\n",
    "# 定义面板的大小\n",
    "root.geometry('250x380')\n",
    "root.title(\"北京图灵学院\")\n",
    "\n",
    "\n",
    "\n",
    "# 定义面板\n",
    "# bg代表背景颜色（background）， #dddddd是十六进制表示颜色的一个串\n",
    "frame_show = Frame(width=300, height=150, bg='#dddddd')\n",
    "frame_show.pack()\n",
    "\n",
    "# 定义顶部区域\n",
    "\n",
    "sv = StringVar()\n",
    "sv.set('0')\n",
    "\n",
    "# anchor:定义控件的锚点，e代表右边\n",
    "# font代表字体\n",
    "show_label = Label(frame_show, textvariable=sv, \\\n",
    "                  bg='green', width=12, height=1,\\\n",
    "                  font=(\"黑体\", 20, 'bold'),\\\n",
    "                  justify=LEFT, anchor='e')\n",
    "show_label.pack(padx=10, pady=10)\n",
    "\n",
    "def delete():# 第二步： 画出图形界面下半部\n",
    "from tkinter import *\n",
    "\n",
    "\n",
    "root = Tk()\n",
    "# 定义面板的大小\n",
    "root.geometry('250x380')\n",
    "root.title(\"北京图灵学院\")\n",
    "\n",
    "\n",
    "\n",
    "# 定义面板\n",
    "# bg代表背景颜色（background）， #dddddd是十六进制表示颜色的一个串\n",
    "frame_show = Frame(width=300, height=150, bg='#dddddd')\n",
    "frame_show.pack()\n",
    "\n",
    "# 定义顶部区域\n",
    "\n",
    "sv = StringVar()\n",
    "sv.set('0')\n",
    "\n",
    "# anchor:定义控件的锚点，e代表右边\n",
    "# font代表字体\n",
    "show_label = Label(frame_show, textvariable=sv, \\\n",
    "                  bg='green', width=12, height=1,\\\n",
    "                  font=(\"黑体\", 20, 'bold'),\\\n",
    "                  justify=LEFT, anchor='e')\n",
    "show_label.pack(padx=10, pady=10)\n",
    "\n",
    "def delete():\n",
    "    print(\"我被删除了\")\n",
    "def fan():\n",
    "    print(\"烦了\")\n",
    "    \n",
    "def clear():\n",
    "    print(\"科利尔\")\n",
    "\n",
    "# 按键区域\n",
    "frame_bord = Frame(width=400, height=350, bg='#cccccc')\n",
    "\n",
    "b_del = Button(frame_bord, text=\"←\", width=5, height=1, \\\n",
    "              command=delete)\n",
    "b_del.grid(row=0, column=0)\n",
    "\n",
    "button_clear = Button(frame_bord,text = 'C',width = 5,height =1,\\\n",
    "                      command = clear).grid(row = 0,column = 1)\n",
    "button_fan = Button(frame_bord,text = '±',width = 5,height =1,\\\n",
    "                    command = fan).grid(row = 0,column = 2)\n",
    "button_ce = Button(frame_bord,text = 'CE',width = 5,height =1,\\\n",
    "                   command = clear).grid(row = 0,column = 3)\n",
    "\n",
    "def change(num):\n",
    "    print(num)\n",
    "    \n",
    "def operation(op):\n",
    "    print(op)\n",
    "    \n",
    "    \n",
    "b_1 = Button(frame_bord, text='1', width=5, height=2,\\\n",
    "            command=lambda:change(\"1\"))\n",
    "b_1.grid(row=1, column=0)\n",
    "\n",
    "\n",
    "b_jia = Button(frame_bord, text='+', width=5, height=2,\\\n",
    "            command=lambda:operation(\"+\"))\n",
    "b_jia.grid(row=2, column=0)\n",
    "\n",
    " \n",
    "\n",
    "frame_bord.pack(padx=10, pady=10)\n",
    "\n",
    "root.mainloop()\n",
    "    print(\"我被删除了\")\n",
    "def fan():\n",
    "    print(\"烦了\")\n",
    "    \n",
    "def clear():\n",
    "    print(\"科利尔\")\n",
    "\n",
    "# 按键区域\n",
    "frame_bord = Frame(width=400, height=350, bg='#cccccc')\n",
    "\n",
    "b_del = Button(frame_bord, text=\"←\", width=5, height=1, \\\n",
    "              command=delete)\n",
    "b_del.grid(row=0, column=0)\n",
    "\n",
    "button_clear = Button(frame_bord,text = 'C',width = 5,height =1,\\\n",
    "                      command = clear).grid(row = 0,column = 1)\n",
    "button_fan = Button(frame_bord,text = '±',width = 5,height =1,\\\n",
    "                    command = fan).grid(row = 0,column = 2)\n",
    "button_ce = Button(frame_bord,text = 'CE',width = 5,height =1,\\\n",
    "                   command = clear).grid(row = 0,column = 3)\n",
    "\n",
    "def change(num):\n",
    "    print(num)\n",
    "    \n",
    "def operation(op):\n",
    "    print(op)\n",
    "    \n",
    "    \n",
    "b_1 = Button(frame_bord, text='1', width=5, height=2,\\\n",
    "            command=lambda:change(\"1\"))\n",
    "b_1.grid(row=1, column=0)\n",
    "\n",
    "\n",
    "b_jia = Button(frame_bord, text='+', width=5, height=2,\\\n",
    "            command=lambda:operation(\"+\"))\n",
    "b_jia.grid(row=2, column=0)\n",
    "\n",
    " \n",
    "\n",
    "frame_bord.pack(padx=10, pady=10)\n",
    "\n",
    "root.mainloop()"
   ]
  },
  {
   "cell_type": "code",
   "execution_count": 6,
   "metadata": {},
   "outputs": [
    {
     "name": "stdout",
     "output_type": "stream",
     "text": [
      "我被删除了\n",
      "科利尔\n"
     ]
    },
    {
     "name": "stderr",
     "output_type": "stream",
     "text": [
      "Exception in Tkinter callback\n",
      "Traceback (most recent call last):\n",
      "  File \"d:\\ProgramData\\Anaconda3\\lib\\tkinter\\__init__.py\", line 1699, in __call__\n",
      "    return self.func(*args)\n",
      "  File \"<ipython-input-6-bcc452ecc605>\", line 89, in <lambda>\n",
      "    b_1 = Button(frame_bord, text='1', width=5, height=2,            command=lambda:change(\"1\"))\n",
      "  File \"<ipython-input-6-bcc452ecc605>\", line 64, in change\n",
      "    num1 = num1 + num\n",
      "UnboundLocalError: local variable 'num1' referenced before assignment\n"
     ]
    },
    {
     "name": "stdout",
     "output_type": "stream",
     "text": [
      "科利尔\n",
      "烦了\n",
      "烦了\n",
      "科利尔\n",
      "我被删除了\n"
     ]
    },
    {
     "name": "stderr",
     "output_type": "stream",
     "text": [
      "Exception in Tkinter callback\n",
      "Traceback (most recent call last):\n",
      "  File \"d:\\ProgramData\\Anaconda3\\lib\\tkinter\\__init__.py\", line 1699, in __call__\n",
      "    return self.func(*args)\n",
      "  File \"<ipython-input-6-bcc452ecc605>\", line 89, in <lambda>\n",
      "    b_1 = Button(frame_bord, text='1', width=5, height=2,            command=lambda:change(\"1\"))\n",
      "  File \"<ipython-input-6-bcc452ecc605>\", line 64, in change\n",
      "    num1 = num1 + num\n",
      "UnboundLocalError: local variable 'num1' referenced before assignment\n"
     ]
    }
   ],
   "source": [
    "# 第二步： 画出图形界面下半部\n",
    "from tkinter import *\n",
    "\n",
    "\n",
    "root = Tk()\n",
    "# 定义面板的大小\n",
    "root.geometry('250x380')\n",
    "root.title(\"北京图灵学院\")\n",
    "\n",
    "\n",
    "\n",
    "# 定义面板\n",
    "# bg代表背景颜色（background）， #dddddd是十六进制表示颜色的一个串\n",
    "frame_show = Frame(width=300, height=150, bg='#dddddd')\n",
    "frame_show.pack()\n",
    "\n",
    "# 定义顶部区域\n",
    "\n",
    "sv = StringVar()\n",
    "sv.set('0')\n",
    "\n",
    "# anchor:定义控件的锚点，e代表右边\n",
    "# font代表字体\n",
    "show_label = Label(frame_show, textvariable=sv, \\\n",
    "                  bg='green', width=12, height=1,\\\n",
    "                  font=(\"黑体\", 20, 'bold'),\\\n",
    "                  justify=LEFT, anchor='e')\n",
    "show_label.pack(padx=10, pady=10)\n",
    "\n",
    "def delete():\n",
    "    print(\"我被删除了\")\n",
    "def fan():\n",
    "    print(\"烦了\")\n",
    "    \n",
    "def clear():\n",
    "    print(\"科利尔\")\n",
    "\n",
    "# 按键区域\n",
    "frame_bord = Frame(width=400, height=350, bg='#cccccc')\n",
    "\n",
    "b_del = Button(frame_bord, text=\"←\", width=5, height=1, \\\n",
    "              command=delete)\n",
    "b_del.grid(row=0, column=0)\n",
    "\n",
    "button_clear = Button(frame_bord,text = 'C',width = 5,height =1,\\\n",
    "                      command = clear).grid(row = 0,column = 1)\n",
    "button_fan = Button(frame_bord,text = '±',width = 5,height =1,\\\n",
    "                    command = fan).grid(row = 0,column = 2)\n",
    "button_ce = Button(frame_bord,text = 'CE',width = 5,height =1,\\\n",
    "                   command = clear).grid(row = 0,column = 3)\n",
    "'''\n",
    "考虑以下集中情况：\n",
    "1. 按下数字\n",
    "2. 按下操作符号\n",
    "3，只考虑两个操作数操作，比考虑复杂情况\n",
    "\n",
    "'''\n",
    "num1 = ''\n",
    "num2 = ''\n",
    "operator = ''\n",
    "\n",
    "def change(num):\n",
    "    '''\n",
    "    按下一个数字需要考虑两种情况：\n",
    "    1. 数字属于第一个操作数\n",
    "    2. 数字属于第二个操作数\n",
    "    3. 判断是否属于第一个操作数，可以通过operator判断\n",
    "    '''\n",
    "    # 加入操作数是None，表明肯定是第一个操作数\n",
    "    if not operator:\n",
    "        num1 = num1 + num\n",
    "        # 如果是第一个操作数，则只显示第一个操作数\n",
    "        sv.set(num1)\n",
    "    else:\n",
    "        num2 = num2 + num\n",
    "        # 如果是第二个操作数 ，则应该显示完整的计算式子\n",
    "        sv.set(num1+operator+num2)\n",
    "        \n",
    "    \n",
    "def operation(op):\n",
    "    if op in ['+', '-', 'x', '/']:\n",
    "        operator = op\n",
    "    else: # 认为是按下的等于号\n",
    "        if op == \"+\":\n",
    "            rst = int(num1) + int(num2)\n",
    "        if op == \"-\":\n",
    "            rst = int(num1) + int(num2)\n",
    "        if op == \"x\":\n",
    "            rst = int(num1) + int(num2)\n",
    "        if op == \"/\":\n",
    "            rst = int(num1) + int(num2)\n",
    "            \n",
    "        sv.set(str(rst))\n",
    "        \n",
    "        \n",
    "b_1 = Button(frame_bord, text='1', width=5, height=2,\\\n",
    "            command=lambda:change(\"1\"))\n",
    "b_1.grid(row=1, column=0)\n",
    "\n",
    "\n",
    "b_jia = Button(frame_bord, text='+', width=5, height=2,\\\n",
    "            command=lambda:operation(\"+\"))\n",
    "b_jia.grid(row=2, column=0)\n",
    "\n",
    " \n",
    "\n",
    "frame_bord.pack(padx=10, pady=10)\n",
    "\n",
    "root.mainloop()"
   ]
  },
  {
   "cell_type": "code",
   "execution_count": null,
   "metadata": {
    "collapsed": true
   },
   "outputs": [],
   "source": []
  }
 ],
 "metadata": {
  "kernelspec": {
   "display_name": "Python 3",
   "language": "python",
   "name": "python3"
  },
  "language_info": {
   "codemirror_mode": {
    "name": "ipython",
    "version": 3
   },
   "file_extension": ".py",
   "mimetype": "text/x-python",
   "name": "python",
   "nbconvert_exporter": "python",
   "pygments_lexer": "ipython3",
   "version": "3.6.3"
  }
 },
 "nbformat": 4,
 "nbformat_minor": 2
}
