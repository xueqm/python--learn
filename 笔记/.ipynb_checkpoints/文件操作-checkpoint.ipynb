{
 "cells": [
  {
   "cell_type": "markdown",
   "metadata": {},
   "source": [
    "#文件\n",
    "-长久保存信息的一种数据信息集合\n",
    "-常用操作\n",
    "    -打开关闭（文件一旦打开需要关闭操作）\n",
    "    -读写内容\n",
    "    -查找\n",
    "# open函数\n",
    "- open函数负责打开文件，带有很多参数\n",
    "-第一个参数：必须有，文件的路径和名称\n",
    "-mode：表示文件用什么方式打开\n",
    "    - r：以只读方式打开\n",
    "    - w：写方式打开，，会覆盖以前的内容\n",
    "    - x：创建方式打开，如文件已经存在，报错\n",
    "    - a：append方式，以追加的方式对文件内容进行写入\n",
    "    - b：binary 方式，二进制的方式写入\n",
    "    - +：可读写\n",
    "    "
   ]
  },
  {
   "cell_type": "code",
   "execution_count": 1,
   "metadata": {
    "collapsed": true
   },
   "outputs": [],
   "source": [
    "# f称之为文件句柄\n",
    "f = open(r\"xue.txt\",'w')\n",
    "f.close()\n",
    "# 此案例说明，一些的方式打开以文件，默认是如果没有文件，则创建"
   ]
  },
  {
   "cell_type": "markdown",
   "metadata": {},
   "source": [
    "# with \n",
    " -with语句使用的技术是一种上下文管理协议的技术（ContextManagementProtocal）\n",
    " -自动判断文件的作用域\n",
    " \n",
    " \n",
    " "
   ]
  },
  {
   "cell_type": "code",
   "execution_count": 3,
   "metadata": {},
   "outputs": [],
   "source": [
    "# with语句案例\n",
    "with open(r\"xue.txt\",'r')as f:\n",
    "    pass"
   ]
  },
  {
   "cell_type": "code",
   "execution_count": 6,
   "metadata": {},
   "outputs": [
    {
     "name": "stdout",
     "output_type": "stream",
     "text": [
      "假若他日相逢\n",
      "\n",
      "我将何以贺你\n"
     ]
    }
   ],
   "source": [
    "with open(r\"xue.txt\",'r')as f:\n",
    "#     按行读取内容\n",
    "    strline = f.readline()\n",
    "    while strline:\n",
    "        print(strline)\n",
    "        strline = f.readline()"
   ]
  },
  {
   "cell_type": "code",
   "execution_count": 7,
   "metadata": {},
   "outputs": [
    {
     "name": "stdout",
     "output_type": "stream",
     "text": [
      "假若他日相逢\n",
      "\n",
      "我将何以贺你\n"
     ]
    }
   ],
   "source": [
    "# list能用打开的文件作为参数，把文件每一行内容作为一个元素\n",
    "with open(r'xue.txt','r')as f:\n",
    "    l = list(f)\n",
    "    for line in l:\n",
    "        print(line)\n"
   ]
  },
  {
   "cell_type": "code",
   "execution_count": 9,
   "metadata": {},
   "outputs": [
    {
     "name": "stdout",
     "output_type": "stream",
     "text": [
      "3\n",
      "假若他\n"
     ]
    }
   ],
   "source": [
    "with open(r'xue.txt', 'r')as f:\n",
    "    strChar = f.read(3)\n",
    "    print(len(strChar))\n",
    "    print(strChar)\n",
    "        "
   ]
  },
  {
   "cell_type": "markdown",
   "metadata": {},
   "source": [
    "# seek(offset, from)\n",
    "-移动文件的读取位置，也叫读取指针\n",
    "-from的取值范围\n",
    "    -0：从文件头开始偏移\n",
    "    -1：从文件当前位置开始偏移\n",
    "    -2：从文件末尾开始偏移\n",
    "  -运动的单位是字节（byte）\n",
    "  -一个汉字由若干字节构成\n",
    "  - 返回文件指针\n",
    "  "
   ]
  },
  {
   "cell_type": "code",
   "execution_count": 10,
   "metadata": {},
   "outputs": [
    {
     "name": "stdout",
     "output_type": "stream",
     "text": [
      "日相逢\n",
      "我将何以贺你\n"
     ]
    }
   ],
   "source": [
    "# seek案例\n",
    "# 打开文件后，从第五个字节开始读取\n",
    "# 打开读写指针在0处，及文件的开头\n",
    "with open(r'xue.txt','r')as f:\n",
    "    f.seek(6,0)\n",
    "    strChar = f.read()\n",
    "    print(strChar)\n",
    "    \n",
    "    "
   ]
  },
  {
   "cell_type": "code",
   "execution_count": 13,
   "metadata": {},
   "outputs": [
    {
     "name": "stdout",
     "output_type": "stream",
     "text": [
      "假若他\n",
      "日相逢\n",
      "\n",
      "我将\n",
      "何以贺\n",
      "你\n"
     ]
    }
   ],
   "source": [
    "# 关于读取文件的练习\n",
    "# 打开文件，三个字一组读出内容，然后显示在屏幕上\n",
    "# 每读一次，休息一秒钟\n",
    "# 让程序暂停，可以使用time下sleep函数\n",
    "import time\n",
    "with open(r'xue.txt','r')as f:\n",
    "    strChar = f.read(3)\n",
    "    while strChar:\n",
    "        print(strChar)\n",
    "        time.sleep(1)\n",
    "        strChar = f.read(3)"
   ]
  },
  {
   "cell_type": "code",
   "execution_count": 15,
   "metadata": {},
   "outputs": [
    {
     "ename": "SyntaxError",
     "evalue": "invalid character in identifier (<ipython-input-15-1d76cc14150c>, line 7)",
     "output_type": "error",
     "traceback": [
      "\u001b[1;36m  File \u001b[1;32m\"<ipython-input-15-1d76cc14150c>\"\u001b[1;36m, line \u001b[1;32m7\u001b[0m\n\u001b[1;33m    print（strChar）\u001b[0m\n\u001b[1;37m                 ^\u001b[0m\n\u001b[1;31mSyntaxError\u001b[0m\u001b[1;31m:\u001b[0m invalid character in identifier\n"
     ]
    }
   ],
   "source": [
    "# tell函数：用来显示文件读写指针当前位置\n",
    "with open(r'xue.txt','r')as f:\n",
    "    strChar = f.read(3)\n",
    "    pos = f.tell()\n",
    "    while strChar:\n",
    "        print(pos)\n",
    "        print（strChar）\n",
    "        time.sleep(1)\n",
    "        strChar = f.read(3)"
   ]
  },
  {
   "cell_type": "code",
   "execution_count": null,
   "metadata": {
    "collapsed": true
   },
   "outputs": [],
   "source": [
    "# write案例\n",
    " "
   ]
  },
  {
   "cell_type": "code",
   "execution_count": null,
   "metadata": {
    "collapsed": true
   },
   "outputs": [],
   "source": []
  },
  {
   "cell_type": "code",
   "execution_count": null,
   "metadata": {
    "collapsed": true
   },
   "outputs": [],
   "source": []
  },
  {
   "cell_type": "code",
   "execution_count": null,
   "metadata": {
    "collapsed": true
   },
   "outputs": [],
   "source": []
  },
  {
   "cell_type": "code",
   "execution_count": null,
   "metadata": {
    "collapsed": true
   },
   "outputs": [],
   "source": []
  },
  {
   "cell_type": "code",
   "execution_count": null,
   "metadata": {
    "collapsed": true
   },
   "outputs": [],
   "source": []
  },
  {
   "cell_type": "code",
   "execution_count": null,
   "metadata": {
    "collapsed": true
   },
   "outputs": [],
   "source": []
  }
 ],
 "metadata": {
  "kernelspec": {
   "display_name": "Python 3",
   "language": "python",
   "name": "python3"
  },
  "language_info": {
   "codemirror_mode": {
    "name": "ipython",
    "version": 3
   },
   "file_extension": ".py",
   "mimetype": "text/x-python",
   "name": "python",
   "nbconvert_exporter": "python",
   "pygments_lexer": "ipython3",
   "version": "3.6.3"
  }
 },
 "nbformat": 4,
 "nbformat_minor": 2
}
