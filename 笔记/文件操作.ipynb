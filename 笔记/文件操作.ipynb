{
 "cells": [
  {
   "cell_type": "markdown",
   "metadata": {},
   "source": [
    "#文件\n",
    "-长久保存信息的一种数据信息集合\n",
    "-常用操作\n",
    "    -打开关闭（文件一旦打开需要关闭操作）\n",
    "    -读写内容\n",
    "    -查找\n",
    "# open函数\n",
    "- open函数负责打开文件，带有很多参数\n",
    "-第一个参数：必须有，文件的路径和名称\n",
    "-mode：表示文件用什么方式打开\n",
    "    - r：以只读方式打开\n",
    "    - w：写方式打开，，会覆盖以前的内容\n",
    "    - x：创建方式打开，如文件已经存在，报错\n",
    "    - a：append方式，以追加的方式对文件内容进行写入\n",
    "    - b：binary 方式，二进制的方式写入\n",
    "    - +：可读写\n",
    "    "
   ]
  },
  {
   "cell_type": "code",
   "execution_count": 1,
   "metadata": {
    "collapsed": true
   },
   "outputs": [],
   "source": [
    "# f称之为文件句柄\n",
    "f = open(r\"xue.txt\",'w')\n",
    "f.close()\n",
    "# 此案例说明，一些的方式打开以文件，默认是如果没有文件，则创建"
   ]
  },
  {
   "cell_type": "markdown",
   "metadata": {},
   "source": [
    "# with \n",
    " -with语句使用的技术是一种上下文管理协议的技术（ContextManagementProtocal）\n",
    " -自动判断文件的作用域\n",
    " \n",
    " \n",
    " "
   ]
  },
  {
   "cell_type": "code",
   "execution_count": 3,
   "metadata": {
    "collapsed": true
   },
   "outputs": [],
   "source": [
    "# with语句案例\n",
    "with open(r\"xue.txt\",'r')as f:\n",
    "    pass"
   ]
  },
  {
   "cell_type": "code",
   "execution_count": 6,
   "metadata": {},
   "outputs": [
    {
     "name": "stdout",
     "output_type": "stream",
     "text": [
      "假若他日相逢\n",
      "\n",
      "我将何以贺你\n"
     ]
    }
   ],
   "source": [
    "with open(r\"xue.txt\",'r')as f:\n",
    "#     按行读取内容\n",
    "    strline = f.readline()\n",
    "    while strline:\n",
    "        print(strline)\n",
    "        strline = f.readline()"
   ]
  },
  {
   "cell_type": "code",
   "execution_count": 7,
   "metadata": {},
   "outputs": [
    {
     "name": "stdout",
     "output_type": "stream",
     "text": [
      "假若他日相逢\n",
      "\n",
      "我将何以贺你\n"
     ]
    }
   ],
   "source": [
    "# list能用打开的文件作为参数，把文件每一行内容作为一个元素\n",
    "with open(r'xue.txt','r')as f:\n",
    "    l = list(f)\n",
    "    for line in l:\n",
    "        print(line)\n"
   ]
  },
  {
   "cell_type": "code",
   "execution_count": 9,
   "metadata": {},
   "outputs": [
    {
     "name": "stdout",
     "output_type": "stream",
     "text": [
      "3\n",
      "假若他\n"
     ]
    }
   ],
   "source": [
    "with open(r'xue.txt', 'r')as f:\n",
    "    strChar = f.read(3)\n",
    "    print(len(strChar))\n",
    "    print(strChar)\n",
    "        "
   ]
  },
  {
   "cell_type": "markdown",
   "metadata": {},
   "source": [
    "# seek(offset, from)\n",
    "-移动文件的读取位置，也叫读取指针\n",
    "-from的取值范围\n",
    "    -0：从文件头开始偏移\n",
    "    -1：从文件当前位置开始偏移\n",
    "    -2：从文件末尾开始偏移\n",
    "  -运动的单位是字节（byte）\n",
    "  -一个汉字由若干字节构成\n",
    "  - 返回文件指针\n",
    "  "
   ]
  },
  {
   "cell_type": "code",
   "execution_count": 10,
   "metadata": {},
   "outputs": [
    {
     "name": "stdout",
     "output_type": "stream",
     "text": [
      "日相逢\n",
      "我将何以贺你\n"
     ]
    }
   ],
   "source": [
    "# seek案例\n",
    "# 打开文件后，从第五个字节开始读取\n",
    "# 打开读写指针在0处，及文件的开头\n",
    "with open(r'xue.txt','r')as f:\n",
    "    f.seek(6,0)\n",
    "    strChar = f.read()\n",
    "    print(strChar)\n",
    "    \n",
    "    "
   ]
  },
  {
   "cell_type": "code",
   "execution_count": 13,
   "metadata": {},
   "outputs": [
    {
     "name": "stdout",
     "output_type": "stream",
     "text": [
      "假若他\n",
      "日相逢\n",
      "\n",
      "我将\n",
      "何以贺\n",
      "你\n"
     ]
    }
   ],
   "source": [
    "# 关于读取文件的练习\n",
    "# 打开文件，三个字一组读出内容，然后显示在屏幕上\n",
    "# 每读一次，休息一秒钟\n",
    "# 让程序暂停，可以使用time下sleep函数\n",
    "import time\n",
    "with open(r'xue.txt','r')as f:\n",
    "    strChar = f.read(3)\n",
    "    while strChar:\n",
    "        print(strChar)\n",
    "        time.sleep(1)\n",
    "        strChar = f.read(3)"
   ]
  },
  {
   "cell_type": "code",
   "execution_count": 15,
   "metadata": {},
   "outputs": [
    {
     "ename": "SyntaxError",
     "evalue": "invalid character in identifier (<ipython-input-15-1d76cc14150c>, line 7)",
     "output_type": "error",
     "traceback": [
      "\u001b[1;36m  File \u001b[1;32m\"<ipython-input-15-1d76cc14150c>\"\u001b[1;36m, line \u001b[1;32m7\u001b[0m\n\u001b[1;33m    print（strChar）\u001b[0m\n\u001b[1;37m                 ^\u001b[0m\n\u001b[1;31mSyntaxError\u001b[0m\u001b[1;31m:\u001b[0m invalid character in identifier\n"
     ]
    }
   ],
   "source": [
    "# tell函数：用来显示文件读写指针当前位置\n",
    "with open(r'xue.txt','r')as f:\n",
    "    strChar = f.read(3)\n",
    "    pos = f.tell()\n",
    "    while strChar:\n",
    "        print(pos)\n",
    "        print（strChar）\n",
    "        time.sleep(1)\n",
    "        strChar = f.read(3)"
   ]
  },
  {
   "cell_type": "code",
   "execution_count": 2,
   "metadata": {
    "collapsed": true
   },
   "outputs": [],
   "source": [
    "# write案例\n",
    "#  项文件追加一句诗\n",
    "with open (r\"xue.txt\",'a')as f:\n",
    "     #注意字符串中有换行符\n",
    "    f.write(\"\\n生活不仅有眼前的苟且，\\n 还有诗和远方\")\n",
    "    "
   ]
  },
  {
   "cell_type": "code",
   "execution_count": 4,
   "metadata": {},
   "outputs": [],
   "source": [
    "# 可以直接写入行，有writelines\n",
    "# writelines表示写入很多行，参数可以是list格式\n",
    "with open (r\"xue.txt\",'a')as f:\n",
    "     #注意字符串中有换行符\n",
    "    f.writelines(\"生活不仅有眼前的苟且,还有诗和远方\")\n",
    "    f.writelines(\"还有远方的枸杞\")"
   ]
  },
  {
   "cell_type": "code",
   "execution_count": 5,
   "metadata": {},
   "outputs": [
    {
     "name": "stdout",
     "output_type": "stream",
     "text": [
      "Help on built-in function writelines:\n",
      "\n",
      "writelines(lines, /) method of _io.TextIOWrapper instance\n",
      "\n"
     ]
    }
   ],
   "source": [
    "help(f.writelines)"
   ]
  },
  {
   "cell_type": "code",
   "execution_count": 7,
   "metadata": {
    "collapsed": true
   },
   "outputs": [],
   "source": [
    "l = [\"t\",\"love\",\"wangxiaojing\"]\n",
    "with open (r\"xue.txt\",'w')as f:\n",
    "     #注意字符串中有换行符\n",
    "    f.writelines(l)\n",
    "    f.writelines(\"还有远方的枸杞\")"
   ]
  },
  {
   "cell_type": "markdown",
   "metadata": {},
   "source": [
    "# 持久化 - pickle\n",
    "-序列化（持久化，落地）：把程序运行中的信息保存在磁盘上\n",
    "-反序列化：序列化的逆过程，把磁盘的的信息读取出来\n",
    "-pickle：python提供的序列化模块\n",
    "-pickle.dump：序列化\n",
    "-pickle.load：反序列化\n"
   ]
  },
  {
   "cell_type": "code",
   "execution_count": 11,
   "metadata": {},
   "outputs": [],
   "source": [
    "# 序列化案例\n",
    "import pickle\n",
    "age = 9\n",
    "with open (r\"xue.txt\",'wb')as f:\n",
    "     #注意字符串中有换行符\n",
    "    pickle.dump(age,f)\n"
   ]
  },
  {
   "cell_type": "code",
   "execution_count": 14,
   "metadata": {},
   "outputs": [
    {
     "name": "stdout",
     "output_type": "stream",
     "text": [
      "9\n"
     ]
    }
   ],
   "source": [
    "with open (r\"xue.txt\",'rb')as f:\n",
    "    age = pickle.load(f)\n",
    "    print(age)"
   ]
  },
  {
   "cell_type": "code",
   "execution_count": 19,
   "metadata": {},
   "outputs": [
    {
     "ename": "TypeError",
     "evalue": "Required argument 'file' (pos 2) not found",
     "output_type": "error",
     "traceback": [
      "\u001b[1;31m---------------------------------------------------------------------------\u001b[0m",
      "\u001b[1;31mTypeError\u001b[0m                                 Traceback (most recent call last)",
      "\u001b[1;32m<ipython-input-19-aecee23f41eb>\u001b[0m in \u001b[0;36m<module>\u001b[1;34m()\u001b[0m\n\u001b[0;32m      1\u001b[0m \u001b[0ma\u001b[0m \u001b[1;33m=\u001b[0m \u001b[1;33m[\u001b[0m\u001b[1;34m\"alsmdl\"\u001b[0m\u001b[1;33m,\u001b[0m\u001b[1;36m26\u001b[0m\u001b[1;33m,\u001b[0m\u001b[1;34m'i love wangxiaojing'\u001b[0m\u001b[1;33m,\u001b[0m\u001b[1;33m[\u001b[0m\u001b[1;36m185\u001b[0m\u001b[1;33m,\u001b[0m\u001b[1;36m76\u001b[0m\u001b[1;33m]\u001b[0m\u001b[1;33m]\u001b[0m\u001b[1;33m\u001b[0m\u001b[0m\n\u001b[0;32m      2\u001b[0m \u001b[1;32mwith\u001b[0m \u001b[0mopen\u001b[0m \u001b[1;33m(\u001b[0m\u001b[1;34mr\"xue.txt\"\u001b[0m\u001b[1;33m,\u001b[0m\u001b[1;34m'wb'\u001b[0m\u001b[1;33m)\u001b[0m\u001b[1;32mas\u001b[0m \u001b[0mf\u001b[0m\u001b[1;33m:\u001b[0m\u001b[1;33m\u001b[0m\u001b[0m\n\u001b[1;32m----> 3\u001b[1;33m     \u001b[0ma\u001b[0m \u001b[1;33m=\u001b[0m \u001b[0mpickle\u001b[0m\u001b[1;33m.\u001b[0m\u001b[0mdump\u001b[0m\u001b[1;33m(\u001b[0m\u001b[0mf\u001b[0m\u001b[1;33m)\u001b[0m\u001b[1;33m\u001b[0m\u001b[0m\n\u001b[0m\u001b[0;32m      4\u001b[0m     \u001b[0ma\u001b[0m \u001b[1;33m=\u001b[0m \u001b[0mpickle\u001b[0m\u001b[1;33m.\u001b[0m\u001b[0mload\u001b[0m\u001b[1;33m(\u001b[0m\u001b[0mf\u001b[0m\u001b[1;33m)\u001b[0m\u001b[1;33m\u001b[0m\u001b[0m\n\u001b[0;32m      5\u001b[0m     \u001b[0mprint\u001b[0m\u001b[1;33m(\u001b[0m\u001b[0ma\u001b[0m\u001b[1;33m)\u001b[0m\u001b[1;33m\u001b[0m\u001b[0m\n",
      "\u001b[1;31mTypeError\u001b[0m: Required argument 'file' (pos 2) not found"
     ]
    }
   ],
   "source": [
    "a = [\"alsmdl\",26,'i love wangxiaojing',[185,76]]\n",
    "with open (r\"xue.txt\",'wb')as f:\n",
    "    a = pickle.dump(f)\n",
    "    a = pickle.load(f)\n",
    "    print(a)"
   ]
  },
  {
   "cell_type": "code",
   "execution_count": null,
   "metadata": {
    "collapsed": true
   },
   "outputs": [],
   "source": [
    "# 持久化-shelve\n",
    "-持久化工具\n",
    "-类似字典，用kv对保存数据，存取方式和字典类似\n",
    "-open，close\n"
   ]
  },
  {
   "cell_type": "code",
   "execution_count": 20,
   "metadata": {},
   "outputs": [
    {
     "data": {
      "text/plain": [
       "<bound method Shelf.close of <shelve.DbfilenameShelf object at 0x0000000006D483C8>>"
      ]
     },
     "execution_count": 20,
     "metadata": {},
     "output_type": "execute_result"
    }
   ],
   "source": [
    "import shelve\n",
    "# 打开文件\n",
    "# shv相当于字典\n",
    "shv = shelve.open(r\"shv.db\")\n",
    "\n",
    "shv['one'] = 1\n",
    "shv['two'] = 2\n",
    "shv['three'] = 3\n",
    "shv.close\n",
    "# 通过以上案例发现，shelve自动创建的不仅仅是是一个shv.db文件"
   ]
  },
  {
   "cell_type": "code",
   "execution_count": 23,
   "metadata": {},
   "outputs": [
    {
     "name": "stdout",
     "output_type": "stream",
     "text": [
      "1\n",
      "fansile\n"
     ]
    }
   ],
   "source": [
    "shv = shelve.open(r\"shv.db\")\n",
    "try:\n",
    "    print(shv['one'])\n",
    "    print(shv['two0'])\n",
    "except Exception as e:\n",
    "    print(\"fansile\")\n",
    "finally:\n",
    "    shv.close"
   ]
  },
  {
   "cell_type": "code",
   "execution_count": null,
   "metadata": {
    "collapsed": true
   },
   "outputs": [],
   "source": [
    "shelve特性\n",
    ".不支持"
   ]
  },
  {
   "cell_type": "code",
   "execution_count": 26,
   "metadata": {},
   "outputs": [
    {
     "name": "stdout",
     "output_type": "stream",
     "text": [
      "{'enis': 1, 'two': 2, 'three': 3}\n"
     ]
    }
   ],
   "source": [
    "import shelve\n",
    "shv = shelve.open(r'shv.db')\n",
    "try:\n",
    "    shv[\"one\"] = {\"enis\":1,\"two\":2,\"three\":3}\n",
    "finally:\n",
    "    shv.close()\n",
    "    \n",
    "shv = shelve.open(r'shv.db')\n",
    "try:\n",
    "    one = shv['one']\n",
    "    print(one)\n",
    "finally:\n",
    "    shv.close"
   ]
  },
  {
   "cell_type": "code",
   "execution_count": 28,
   "metadata": {},
   "outputs": [
    {
     "name": "stdout",
     "output_type": "stream",
     "text": [
      "公鸡为4只，母鸡为18只，小鸡为78只\n",
      "公鸡为8只，母鸡为11只，小鸡为81只\n",
      "公鸡为12只，母鸡为4只，小鸡为84只\n"
     ]
    }
   ],
   "source": [
    "x = 1\n",
    "y = 1\n",
    "\n",
    "while x <= 20:\n",
    "    while y <= 33:\n",
    "        z = 100 - (x + y)\n",
    "        if (z % 3 == 0) and (x * 5 + y * 3 + z / 3 == 100):\n",
    "            print(\"公鸡为%d只，母鸡为%d只，小鸡为%d只\" % (x, y, z))\n",
    "        y += 1\n",
    "    y = 1\n",
    "    x += 1\n"
   ]
  },
  {
   "cell_type": "code",
   "execution_count": 29,
   "metadata": {},
   "outputs": [
    {
     "name": "stdout",
     "output_type": "stream",
     "text": [
      "公鸡为4只，母鸡为18只，小鸡为78只\n",
      "公鸡为8只，母鸡为11只，小鸡为81只\n",
      "公鸡为12只，母鸡为4只，小鸡为84只\n",
      "0.0008581790104572309\n"
     ]
    }
   ],
   "source": [
    "import time\n",
    "\n",
    "x = 1\n",
    "y = 1\n",
    "\n",
    "start = time.clock()\n",
    "while x <= 20:\n",
    "    while y <= 33:\n",
    "        z = 100 - (x + y)\n",
    "        if (z % 3 == 0) and (x * 5 + y * 3 + z / 3 == 100):\n",
    "            print(\"公鸡为%d只，母鸡为%d只，小鸡为%d只\" % (x, y, z))\n",
    "        y += 1\n",
    "    y = 1\n",
    "    x += 1\n",
    "end = time.clock()\n",
    "print(end - start)\n"
   ]
  },
  {
   "cell_type": "code",
   "execution_count": 30,
   "metadata": {},
   "outputs": [
    {
     "name": "stdout",
     "output_type": "stream",
     "text": [
      "井深721:甲家绳长265乙家绳长191丙家绳长148丁家绳长129戊家绳长76\n",
      "井深1442:甲家绳长530乙家绳长382丙家绳长296丁家绳长258戊家绳长152\n",
      "井深2163:甲家绳长795乙家绳长573丙家绳长444丁家绳长387戊家绳长228\n",
      "井深2884:甲家绳长1060乙家绳长764丙家绳长592丁家绳长516戊家绳长304\n"
     ]
    }
   ],
   "source": [
    "for k in range(1, 5):\n",
    "    for e in range(1, 500):\n",
    "        a = 721 * k - 6 * e\n",
    "        b = 721 * k - 2 * a\n",
    "        c = 721 * k - 3 * b\n",
    "        d = 721 * k - 4 * c\n",
    "        e = 721 * k - 5 * d\n",
    "\n",
    "        result1 = a + 6 * e\n",
    "        result2 = b + 2 * a\n",
    "        result3 = c + 3 * b\n",
    "        result4 = d + 4 * c\n",
    "        result5 = e + 5 * d\n",
    "\n",
    "        if result1 == result2 == result3 == result4 == result5:\n",
    "            print('井深%d:甲家绳长%d乙家绳长%d丙家绳长%d丁家绳长%d戊家绳长%d' % (result1, a, b, c, d, e))\n"
   ]
  },
  {
   "cell_type": "code",
   "execution_count": null,
   "metadata": {
    "collapsed": true
   },
   "outputs": [],
   "source": []
  }
 ],
 "metadata": {
  "kernelspec": {
   "display_name": "Python 3",
   "language": "python",
   "name": "python3"
  },
  "language_info": {
   "codemirror_mode": {
    "name": "ipython",
    "version": 3
   },
   "file_extension": ".py",
   "mimetype": "text/x-python",
   "name": "python",
   "nbconvert_exporter": "python",
   "pygments_lexer": "ipython3",
   "version": "3.6.3"
  }
 },
 "nbformat": 4,
 "nbformat_minor": 2
}
