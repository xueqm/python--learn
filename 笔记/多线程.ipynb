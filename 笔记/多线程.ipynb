{
 "cells": [
  {
   "cell_type": "code",
   "execution_count": null,
   "metadata": {
    "collapsed": true
   },
   "outputs": [],
   "source": [
    "# 环境\n",
    "# 多线程 vs 多进程\n",
    "-程序:一堆代码以文本形式存入一个文档\n",
    "-进程:程序运行的一个状态\n",
    "    - 包含地址空间、内存、数据栈\n",
    "    - 每个进程有自己完全的运行环境，多进程共享数据是一个问题\n",
    "-线程\n",
    "    - 一个进程的独立运行片段，一个进程可以 "
   ]
  },
  {
   "cell_type": "code",
   "execution_count": 1,
   "metadata": {},
   "outputs": [
    {
     "name": "stdout",
     "output_type": "stream",
     "text": [
      "Starting at: Wed Nov 28 20:55:31 2018\n",
      "Start loop 1 at : Wed Nov 28 20:55:31 2018\n",
      "End loop 1 at: Wed Nov 28 20:55:35 2018\n",
      "Start loop 2 at : Wed Nov 28 20:55:35 2018\n",
      "End loop 2 at: Wed Nov 28 20:55:37 2018\n",
      "All done at: Wed Nov 28 20:55:37 2018\n"
     ]
    }
   ],
   "source": [
    "import time\n",
    "\n",
    "def loop1():\n",
    "    # ctime 得到当前时间\n",
    "    print('Start loop 1 at :', time.ctime())\n",
    "    # 睡眠多长时间，单位是秒\n",
    "    time.sleep(4)\n",
    "    print('End loop 1 at:', time.ctime())\n",
    "\n",
    "\n",
    "def loop2():\n",
    "    # ctime 得到当前时间\n",
    "    print('Start loop 2 at :', time.ctime())\n",
    "    # 睡眠多长时间，单位是秒\n",
    "    time.sleep(2)\n",
    "    print('End loop 2 at:', time.ctime())\n",
    "\n",
    "\n",
    "def main():\n",
    "    print(\"Starting at:\", time.ctime())\n",
    "    loop1()\n",
    "    loop2()\n",
    "    print(\"All done at:\", time.ctime())\n",
    "\n",
    "\n",
    "if __name__ == '__main__':\n",
    "    main()\n"
   ]
  },
  {
   "cell_type": "code",
   "execution_count": 2,
   "metadata": {},
   "outputs": [
    {
     "name": "stdout",
     "output_type": "stream",
     "text": [
      "Starting at: Tue Nov 20 21:20:04 2018\n",
      "Start loop 1 at : Tue Nov 20 21:20:04 2018\n",
      "End loop 1 at: Tue Nov 20 21:20:08 2018\n",
      "Start loop 2 at : Tue Nov 20 21:20:08 2018\n",
      "End loop 2 at: Tue Nov 20 21:20:10 2018\n",
      "All done at: Tue Nov 20 21:20:10 2018\n"
     ]
    }
   ],
   "source": []
  },
  {
   "cell_type": "code",
   "execution_count": null,
   "metadata": {
    "collapsed": true
   },
   "outputs": [],
   "source": [
    "import threading\n",
    "import time\n",
    "class MyThread(threading.Thread):\n",
    "    def run(self):\n",
    "        global num\n",
    "        time.sleep(1)\n",
    "        \n",
    "        if mutex.acquire(1):\n",
    "            num = num+1\n",
    "            msq = self.name+'set num to '+str(num)\n",
    "            print(msq)\n",
    "            me\n"
   ]
  },
  {
   "cell_type": "code",
   "execution_count": null,
   "metadata": {
    "collapsed": true
   },
   "outputs": [],
   "source": []
  },
  {
   "cell_type": "code",
   "execution_count": null,
   "metadata": {
    "collapsed": true
   },
   "outputs": [],
   "source": []
  },
  {
   "cell_type": "code",
   "execution_count": null,
   "metadata": {
    "collapsed": true
   },
   "outputs": [],
   "source": []
  },
  {
   "cell_type": "code",
   "execution_count": null,
   "metadata": {
    "collapsed": true
   },
   "outputs": [],
   "source": []
  },
  {
   "cell_type": "code",
   "execution_count": null,
   "metadata": {
    "collapsed": true
   },
   "outputs": [],
   "source": []
  }
 ],
 "metadata": {
  "kernelspec": {
   "display_name": "Python 3",
   "language": "python",
   "name": "python3"
  },
  "language_info": {
   "codemirror_mode": {
    "name": "ipython",
    "version": 3
   },
   "file_extension": ".py",
   "mimetype": "text/x-python",
   "name": "python",
   "nbconvert_exporter": "python",
   "pygments_lexer": "ipython3",
   "version": "3.6.3"
  }
 },
 "nbformat": 4,
 "nbformat_minor": 2
}
